{
 "cells": [
  {
   "cell_type": "code",
   "execution_count": 4,
   "metadata": {},
   "outputs": [
    {
     "ename": "ModuleNotFoundError",
     "evalue": "No module named 'statsmodels'",
     "output_type": "error",
     "traceback": [
      "\u001b[0;31m---------------------------------------------------------------------------\u001b[0m",
      "\u001b[0;31mModuleNotFoundError\u001b[0m                       Traceback (most recent call last)",
      "Input \u001b[0;32mIn [4]\u001b[0m, in \u001b[0;36m<cell line: 6>\u001b[0;34m()\u001b[0m\n\u001b[1;32m      4\u001b[0m \u001b[38;5;28;01mimport\u001b[39;00m \u001b[38;5;21;01mscipy\u001b[39;00m\u001b[38;5;21;01m.\u001b[39;00m\u001b[38;5;21;01mstats\u001b[39;00m \u001b[38;5;28;01mas\u001b[39;00m \u001b[38;5;21;01mscs\u001b[39;00m\n\u001b[1;32m      5\u001b[0m \u001b[38;5;28;01mfrom\u001b[39;00m \u001b[38;5;21;01mscipy\u001b[39;00m\u001b[38;5;21;01m.\u001b[39;00m\u001b[38;5;21;01mintegrate\u001b[39;00m \u001b[38;5;28;01mimport\u001b[39;00m quad\n\u001b[0;32m----> 6\u001b[0m \u001b[38;5;28;01mimport\u001b[39;00m \u001b[38;5;21;01mstatsmodels\u001b[39;00m\u001b[38;5;21;01m.\u001b[39;00m\u001b[38;5;21;01mapi\u001b[39;00m \u001b[38;5;28;01mas\u001b[39;00m \u001b[38;5;21;01msm\u001b[39;00m\n\u001b[1;32m      7\u001b[0m \u001b[38;5;28;01mimport\u001b[39;00m \u001b[38;5;21;01mmatplotlib\u001b[39;00m \u001b[38;5;28;01mas\u001b[39;00m \u001b[38;5;21;01mmpl\u001b[39;00m\n\u001b[1;32m      8\u001b[0m \u001b[38;5;28;01mimport\u001b[39;00m \u001b[38;5;21;01mmatplotlib\u001b[39;00m\u001b[38;5;21;01m.\u001b[39;00m\u001b[38;5;21;01mpyplot\u001b[39;00m \u001b[38;5;28;01mas\u001b[39;00m \u001b[38;5;21;01mplt\u001b[39;00m\n",
      "\u001b[0;31mModuleNotFoundError\u001b[0m: No module named 'statsmodels'"
     ]
    }
   ],
   "source": [
    "import math\n",
    "import numpy as np\n",
    "import pandas as pd\n",
    "import scipy.stats as scs\n",
    "from scipy.integrate import quad\n",
    "import statsmodels.api as sm\n",
    "import matplotlib as mpl\n",
    "import matplotlib.pyplot as plt"
   ]
  },
  {
   "cell_type": "code",
   "execution_count": 3,
   "metadata": {},
   "outputs": [],
   "source": [
    "def rand_norm():\n",
    "    return np.random.normal(0, 1)\n",
    "\n",
    "def dN(x):\n",
    "    ''' Probability density function of standard normal random variable x.'''\n",
    "    return math.exp(-0.5 * x ** 2) / math.sqrt(2 * math.pi)\n",
    "def N(d):\n",
    "    ''' Cumulative density function of standard normal random variable x. '''\n",
    "    return quad(lambda x: dN(x), -20, d, limit=50)[0]"
   ]
  },
  {
   "cell_type": "code",
   "execution_count": null,
   "metadata": {},
   "outputs": [],
   "source": [
    "def sim_bm(T, dt=1):\n",
    "    N = T / dt\n",
    "    sqrdt = math.sqrt(dt)\n",
    "    bm = 0\n",
    "    for i in range(N):\n",
    "        bm = bm + sqrdt * np.random.normal(0, 1)\n",
    "        \n",
    "    return bm"
   ]
  },
  {
   "cell_type": "code",
   "execution_count": 10,
   "metadata": {},
   "outputs": [],
   "source": [
    "def sim_gbm(S0, mu, sigma, T, dt=1):\n",
    "    N = T / dt\n",
    "    sigsqrdt = sigma * math.sqrt(dt)\n",
    "    drift = (mu - .5 * sigma * sigma) * dt\n",
    "    logS = np.log(S)\n",
    "    \n",
    "    for i in range(N):\n",
    "        logS = logS + drift + sigsqrdt * np.random.normal(0, 1)\n",
    "        \n",
    "    return np.exp(logS)"
   ]
  },
  {
   "cell_type": "code",
   "execution_count": null,
   "metadata": {},
   "outputs": [],
   "source": []
  },
  {
   "cell_type": "code",
   "execution_count": null,
   "metadata": {},
   "outputs": [],
   "source": []
  },
  {
   "cell_type": "code",
   "execution_count": 3,
   "metadata": {},
   "outputs": [],
   "source": [
    "def simulate_gbm():\n",
    "    # model parameters\n",
    "    S0 = 100.0 # initial index level\n",
    "    T = 10.0 # time horizon\n",
    "    r = 0.05 # risk-less short rate\n",
    "    vol = 0.2 # instantaneous volatility\n",
    "    \n",
    "    # simulation parameters\n",
    "    np.random.seed(250000)\n",
    "    gbm_dates = pd.DatetimeIndex(start='30-09-2004', end='30-09-2014', freq='B')\n",
    "    M = len(gbm_dates) # time steps\n",
    "    I = 1 # index level paths\n",
    "    dt = 1 / 252. # fixed for simplicity\n",
    "    df = math.exp(-r * dt) # discount factor\n",
    "    \n",
    "    # stock price paths\n",
    "    rand = np.random.standard_normal((M, I)) # random numbers \n",
    "    S = np.zeros_like(rand) # stock matrix\n",
    "    S[0] = S0 # initial values\n",
    "    for t in range(1, M): # stock price paths\n",
    "        S[t] = S[t - 1] * np.exp((r - vol ** 2 / 2) * dt + vol * rand[t] * math.sqrt(dt))\n",
    "        \n",
    "    gbm = pd.DataFrame(S[:, 0], index=gbm_dates, columns=['index'])\n",
    "    gbm['returns'] = np.log(gbm['index'] / gbm['index'].shift(1))\n",
    "    \n",
    "    # Realized Volatility (eg. as defined for variance swaps)\n",
    "    gbm['rea_var'] = 252 * np.cumsum(gbm['returns'] ** 2) / np.arange(len(gbm)) \n",
    "    gbm['rea_vol'] = np.sqrt(gbm['rea_var'])\n",
    "    gbm = gbm.dropna()\n",
    "    return gbm"
   ]
  },
  {
   "cell_type": "code",
   "execution_count": 4,
   "metadata": {},
   "outputs": [],
   "source": [
    "def print_statistics(data):\n",
    "    print(\"RETURN SAMPLE STATISTICS\")\n",
    "    print(\"---------------------------------------------\")\n",
    "    print(\"Mean of Daily Log Returns %9.6f\" % np.mean(data['returns']))\n",
    "    print(\"Std of Daily Log Returns %9.6f\" % np.std(data['returns']))\n",
    "    print(\"Mean of Annua. Log Returns %9.6f\" % (np.mean(data['returns']) * 252))\n",
    "    print(\"Std of Annua. Log Returns %9.6f\" % (np.std(data['returns']) * math.sqrt(252)))\n",
    "    print(\"---------------------------------------------\")\n",
    "    print(\"Skew of Sample Log Returns %9.6f\" % scs.skew(data['returns']))\n",
    "    print(\"Skew Normal Test p-value   %9.6f\" % scs.skewtest(data['returns'])[1])\n",
    "    print(\"---------------------------------------------\")\n",
    "    print(\"Kurt of Sample Log Returns %9.6f\" % scs.kurtosis(data['returns']))\n",
    "    print(\"Kurt Normal Test p-value %9.6f\" % scs.kurtosistest(data['returns'])[1])\n",
    "    print(\"---------------------------------------------\")\n",
    "    print(\"Normal Test p-value %9.6f\" % scs.normaltest(data['returns'])[1])\n",
    "    print(\"---------------------------------------------\")\n",
    "    print(\"Realized Volatility %9.6f\" % data['rea_vol'].iloc[-1])\n",
    "    print(\"Realized Variance %9.6f\" % data['rea_var'].iloc[-1])"
   ]
  },
  {
   "cell_type": "code",
   "execution_count": 5,
   "metadata": {},
   "outputs": [],
   "source": [
    "#\n",
    "# Graphical Output\n",
    "#\n",
    "\n",
    "# daily quotes and log returns\n",
    "def quotes_returns(data):\n",
    "    ''' Plots quotes and returns. ''' \n",
    "    plt.figure(figsize=(9, 6)) \n",
    "    plt.subplot(211) \n",
    "    data['index'].plot() \n",
    "    plt.ylabel('daily quotes') \n",
    "    plt.grid(True)\n",
    "    plt.axis('tight')\n",
    "    plt.subplot(212)\n",
    "    data['returns'].plot()\n",
    "    plt.ylabel('daily log returns')\n",
    "    plt.grid(True)\n",
    "    plt.axis('tight')\n",
    "\n",
    "# histogram of annualized daily log returns\n",
    "def return_histogram(data):\n",
    "    ''' Plots a histogram of the returns. '''\n",
    "    plt.figure(figsize=(9, 5))\n",
    "    x = np.linspace(min(data['returns']), max(data['returns']), 100) \n",
    "    plt.hist(np.array(data['returns']), bins=50, normed=True)\n",
    "    y = dN(x, np.mean(data['returns']), np.std(data['returns'])) \n",
    "    plt.plot(x, y, linewidth=2)\n",
    "    plt.xlabel('log returns')\n",
    "    plt.ylabel('frequency/probability')\n",
    "    plt.grid(True)\n",
    "    \n",
    "# Q-Q plot of annualized daily log returns\n",
    "def return_qqplot(data):\n",
    "    ''' Generates a Q-Q plot of the returns.''' \n",
    "    plt.figure(figsize=(9, 5)) \n",
    "    sm.qqplot(data['returns'], line='s') \n",
    "    plt.grid(True)\n",
    "    plt.xlabel('theoretical quantiles')\n",
    "    plt.ylabel('sample quantiles')"
   ]
  },
  {
   "cell_type": "code",
   "execution_count": 6,
   "metadata": {},
   "outputs": [],
   "source": [
    "# realized volatility\n",
    "def realized_volatility(data):\n",
    "    ''' Plots the realized volatility. ''' \n",
    "    plt.figure(figsize=(9, 5)) \n",
    "    data['rea_vol'].plot() \n",
    "    plt.ylabel('realized volatility') \n",
    "    plt.grid(True)\n",
    "    \n",
    "# mean return, volatility and correlation (252 days moving = 1 year)\n",
    "def rolling_statistics(data):\n",
    "    ''' Calculates and plots rolling statistics (mean, std, correlation). ''' \n",
    "    plt.figure(figsize=(11, 8))\n",
    "    plt.subplot(311)\n",
    "    mr = pd.rolling_mean(data['returns'], 252) * 252 \n",
    "    mr.plot()\n",
    "    plt.grid(True)\n",
    "    plt.ylabel('returns (252d)')\n",
    "    plt.axhline(mr.mean(), color='r', ls='dashed', lw=1.5)\n",
    "    plt.subplot(312)\n",
    "    vo = pd.rolling_std(data['returns'], 252) * math.sqrt(252) \n",
    "    vo.plot()\n",
    "    plt.grid(True)\n",
    "    plt.ylabel('volatility (252d)')\n",
    "    plt.axhline(vo.mean(), color='r', ls='dashed', lw=1.5)\n",
    "    vx = plt.axis()\n",
    "    plt.subplot(313)\n",
    "    co = pd.rolling_corr(mr, vo, 252)\n",
    "    co.plot()\n",
    "    plt.grid(True)\n",
    "    plt.ylabel('correlation (252d)')\n",
    "    cx = plt.axis()\n",
    "    plt.axis([vx[0], vx[1], cx[2], cx[3]]) \n",
    "    plt.axhline(co.mean(), color='r', ls='dashed', lw=1.5)\n"
   ]
  },
  {
   "cell_type": "code",
   "execution_count": 8,
   "metadata": {},
   "outputs": [],
   "source": []
  },
  {
   "cell_type": "code",
   "execution_count": null,
   "metadata": {},
   "outputs": [],
   "source": []
  },
  {
   "cell_type": "code",
   "execution_count": null,
   "metadata": {},
   "outputs": [],
   "source": []
  }
 ],
 "metadata": {
  "kernelspec": {
   "display_name": "Python 3 (ipykernel)",
   "language": "python",
   "name": "python3"
  },
  "language_info": {
   "codemirror_mode": {
    "name": "ipython",
    "version": 3
   },
   "file_extension": ".py",
   "mimetype": "text/x-python",
   "name": "python",
   "nbconvert_exporter": "python",
   "pygments_lexer": "ipython3",
   "version": "3.9.1"
  }
 },
 "nbformat": 4,
 "nbformat_minor": 2
}
