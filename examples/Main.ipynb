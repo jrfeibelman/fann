{
 "cells": [
  {
   "cell_type": "markdown",
   "id": "weekly-religious",
   "metadata": {},
   "source": [
    "## 1) Establish Stock Universe of tickers\n",
    "## 2) Fetch and Store data\n",
    "## 3) Screen"
   ]
  },
  {
   "cell_type": "code",
   "execution_count": 1,
   "id": "comfortable-uncertainty",
   "metadata": {},
   "outputs": [
    {
     "data": {
      "text/plain": [
       "'\\n\\nMake Three Microservices:\\n1) Data Fetcher/Scraper/Aggregator/Manager to store/retrieve/update\\n\\n2) Screener --> Strategy(Indicators)/Alerter Deployment Infrastructure\\n\\n3) Aggregate Dashboard GUI & Live Graphing Application\\n\\n'"
      ]
     },
     "execution_count": 1,
     "metadata": {},
     "output_type": "execute_result"
    }
   ],
   "source": [
    "\"\"\"\n",
    "\n",
    "Make Three Microservices:\n",
    "1) Data Fetcher/Scraper/Aggregator/Manager to store/retrieve/update\n",
    "\n",
    "2) Screener --> Strategy(Indicators)/Alerter Deployment Infrastructure\n",
    "\n",
    "3) Aggregate Dashboard GUI & Live Graphing Application\n",
    "\n",
    "\"\"\""
   ]
  },
  {
   "cell_type": "code",
   "execution_count": 11,
   "id": "starting-bookmark",
   "metadata": {},
   "outputs": [
    {
     "ename": "ModuleNotFoundError",
     "evalue": "No module named 'stockalyzer.engine'; 'stockalyzer' is not a package",
     "output_type": "error",
     "traceback": [
      "\u001b[0;31m---------------------------------------------------------------------------\u001b[0m",
      "\u001b[0;31mModuleNotFoundError\u001b[0m                       Traceback (most recent call last)",
      "Input \u001b[0;32mIn [11]\u001b[0m, in \u001b[0;36m<cell line: 1>\u001b[0;34m()\u001b[0m\n\u001b[0;32m----> 1\u001b[0m \u001b[38;5;28;01mfrom\u001b[39;00m \u001b[38;5;21;01mstockalyzer\u001b[39;00m\u001b[38;5;21;01m.\u001b[39;00m\u001b[38;5;21;01mdata\u001b[39;00m\u001b[38;5;21;01m.\u001b[39;00m\u001b[38;5;21;01mdata_manager\u001b[39;00m \u001b[38;5;28;01mimport\u001b[39;00m \u001b[38;5;241m*\u001b[39m\n\u001b[1;32m      2\u001b[0m \u001b[38;5;28;01mfrom\u001b[39;00m \u001b[38;5;21;01mstockalyzer\u001b[39;00m\u001b[38;5;21;01m.\u001b[39;00m\u001b[38;5;21;01mdata\u001b[39;00m\u001b[38;5;21;01m.\u001b[39;00m\u001b[38;5;21;01mdata_fetcher\u001b[39;00m \u001b[38;5;28;01mimport\u001b[39;00m TDDataFetcher, YFDataFetcher\n\u001b[1;32m      3\u001b[0m \u001b[38;5;28;01mfrom\u001b[39;00m \u001b[38;5;21;01mstockalyzer\u001b[39;00m\u001b[38;5;21;01m.\u001b[39;00m\u001b[38;5;21;01mstrategy\u001b[39;00m\u001b[38;5;21;01m.\u001b[39;00m\u001b[38;5;21;01mema_crossover\u001b[39;00m \u001b[38;5;28;01mimport\u001b[39;00m EMACrossoverStrategy\n",
      "File \u001b[0;32m~/.pyenv/versions/3.9.1/envs/stockalyzer/lib/python3.9/site-packages/stockalyzer.py:3\u001b[0m, in \u001b[0;36m<module>\u001b[0;34m\u001b[0m\n\u001b[1;32m      1\u001b[0m \u001b[38;5;66;03m#!python\u001b[39;00m\n\u001b[0;32m----> 3\u001b[0m \u001b[38;5;28;01mfrom\u001b[39;00m \u001b[38;5;21;01mstockalyzer\u001b[39;00m\u001b[38;5;21;01m.\u001b[39;00m\u001b[38;5;21;01mengine\u001b[39;00m\u001b[38;5;21;01m.\u001b[39;00m\u001b[38;5;21;01mStockalyzerService\u001b[39;00m \u001b[38;5;28;01mimport\u001b[39;00m StockalyzerService\n\u001b[1;32m      5\u001b[0m \u001b[38;5;28;01mif\u001b[39;00m \u001b[38;5;18m__name__\u001b[39m \u001b[38;5;241m==\u001b[39m \u001b[38;5;124m\"\u001b[39m\u001b[38;5;124m__main__\u001b[39m\u001b[38;5;124m\"\u001b[39m:\n\u001b[1;32m      6\u001b[0m     \u001b[38;5;28mprint\u001b[39m(\u001b[38;5;124m\"\u001b[39m\u001b[38;5;124mInitializing Stockalyzer Framework\u001b[39m\u001b[38;5;124m\"\u001b[39m)\n",
      "\u001b[0;31mModuleNotFoundError\u001b[0m: No module named 'stockalyzer.engine'; 'stockalyzer' is not a package"
     ]
    }
   ],
   "source": [
    "from stockalyzer.data.data_manager import *\n",
    "from stockalyzer.data.data_fetcher import TDDataFetcher, YFDataFetcher\n",
    "from stockalyzer.strategy.ema_crossover import EMACrossoverStrategy\n",
    "from stockalyzer.strategy.rsi_ema import RSIEMAStrategy\n",
    "from stockalyzer.model.stock import Stock\n",
    "\n",
    "from IPython.core.interactiveshell import InteractiveShell\n",
    "InteractiveShell.ast_node_interactivity = \"all\"\n",
    "%matplotlib inline\n",
    "pd.set_option('display.max_rows', None)\n",
    "pd.set_option('display.max_columns', None)\n",
    "pd.set_option('mode.chained_assignment', 'raise')"
   ]
  },
  {
   "cell_type": "code",
   "execution_count": null,
   "id": "editorial-familiar",
   "metadata": {},
   "outputs": [],
   "source": [
    "fetcher = YFDataFetcher(['AAPL','AMZN'])\n",
    "to_plot = debug = False\n",
    "# data = fetcher.get_hourly_price_history(datetime(2017, 6, 1))\n",
    "# fetcher = TDDataFetcher(tickers)\n",
    "sm = StockDataManager.load_from_data_fetcher(fetcher, datetime(2019, 6, 1), interval='1d',debug=debug)\n",
    "#     sm = StockDataManager.load_from_csv('data.csv', datetime(2019, 6, 1))\n",
    "display(sm._data.head())\n",
    "sm.run_strat(EMACrossoverStrategy, p1=20, p2=80, plot=to_plot)\n",
    "sm.run_strat(RSIEMAStrategy, p1=9, p2=(30,70), plot=to_plot)\n",
    "strat_perf = sm.get_results(to_print=True,ipython=True,graphs=to_plot)\n",
    "#     stocks = [Stock(t, strategy_perf=strat_perf.loc[t], fundamentals=fundamentals.loc[t], finviz=True) for t in sm.tickers]\n",
    "strat_perf"
   ]
  },
  {
   "cell_type": "code",
   "execution_count": null,
   "id": "frozen-catalyst",
   "metadata": {},
   "outputs": [],
   "source": [
    "sm._data['AAPL'].head()"
   ]
  },
  {
   "cell_type": "code",
   "execution_count": 3,
   "id": "bridal-session",
   "metadata": {},
   "outputs": [
    {
     "ename": "NameError",
     "evalue": "name 'TDDataFetcher' is not defined",
     "output_type": "error",
     "traceback": [
      "\u001b[0;31m---------------------------------------------------------------------------\u001b[0m",
      "\u001b[0;31mNameError\u001b[0m                                 Traceback (most recent call last)",
      "Input \u001b[0;32mIn [3]\u001b[0m, in \u001b[0;36m<cell line: 15>\u001b[0;34m()\u001b[0m\n\u001b[1;32m     13\u001b[0m \u001b[38;5;66;03m# start = time.time()\u001b[39;00m\n\u001b[1;32m     14\u001b[0m tickers \u001b[38;5;241m=\u001b[39m [\u001b[38;5;124m\"\u001b[39m\u001b[38;5;124mNVDA\u001b[39m\u001b[38;5;124m\"\u001b[39m, \u001b[38;5;124m\"\u001b[39m\u001b[38;5;124mAMD\u001b[39m\u001b[38;5;124m\"\u001b[39m]\n\u001b[0;32m---> 15\u001b[0m stocks, sm \u001b[38;5;241m=\u001b[39m \u001b[43mmain\u001b[49m\u001b[43m(\u001b[49m\u001b[43mtickers\u001b[49m\u001b[38;5;241;43m=\u001b[39;49m\u001b[43mtickers\u001b[49m\u001b[43m,\u001b[49m\u001b[43m \u001b[49m\u001b[43mto_plot\u001b[49m\u001b[38;5;241;43m=\u001b[39;49m\u001b[38;5;28;43;01mTrue\u001b[39;49;00m\u001b[43m)\u001b[49m\n",
      "Input \u001b[0;32mIn [3]\u001b[0m, in \u001b[0;36mmain\u001b[0;34m(tickers, debug, to_plot, intervals)\u001b[0m\n\u001b[1;32m      3\u001b[0m \u001b[38;5;28;01mdef\u001b[39;00m \u001b[38;5;21mmain\u001b[39m(tickers\u001b[38;5;241m=\u001b[39m[], debug\u001b[38;5;241m=\u001b[39m\u001b[38;5;28;01mFalse\u001b[39;00m, to_plot\u001b[38;5;241m=\u001b[39m\u001b[38;5;28;01mFalse\u001b[39;00m, intervals\u001b[38;5;241m=\u001b[39m\u001b[38;5;124m'\u001b[39m\u001b[38;5;124md\u001b[39m\u001b[38;5;124m'\u001b[39m):\n\u001b[0;32m----> 4\u001b[0m     fetcher \u001b[38;5;241m=\u001b[39m \u001b[43mTDDataFetcher\u001b[49m(tickers)\n\u001b[1;32m      5\u001b[0m     fundamentals \u001b[38;5;241m=\u001b[39m fetcher\u001b[38;5;241m.\u001b[39mget_fundamentals()\n\u001b[1;32m      6\u001b[0m     sm \u001b[38;5;241m=\u001b[39m StockDataManager\u001b[38;5;241m.\u001b[39mload_from_data_fetcher(fetcher, datetime(\u001b[38;5;241m2017\u001b[39m, \u001b[38;5;241m6\u001b[39m, \u001b[38;5;241m1\u001b[39m), debug\u001b[38;5;241m=\u001b[39mdebug, intervals\u001b[38;5;241m=\u001b[39mintervals)\n",
      "\u001b[0;31mNameError\u001b[0m: name 'TDDataFetcher' is not defined"
     ]
    }
   ],
   "source": [
    "# %%time\n",
    "\n",
    "def main(tickers=[], debug=False, to_plot=False, intervals='d'):\n",
    "    fetcher = TDDataFetcher(tickers)\n",
    "    fundamentals = fetcher.get_fundamentals()\n",
    "    sm = StockDataManager.load_from_data_fetcher(fetcher, datetime(2017, 6, 1), debug=debug, intervals=intervals)\n",
    "#     sm = StockDataManager.load_from_csv('data.csv', datetime(2019, 6, 1))\n",
    "    sm.run_strat(EMACrossoverStrategy, p1=20, p2=80, plot=to_plot)\n",
    "    sm.run_strat(RSIEMAStrategy, p1=9, p2=(30,70), plot=to_plot)\n",
    "    strat_perf = sm.get_results(to_print=True,ipython=True,graphs=to_plot)\n",
    "    stocks = [Stock(t, strategy_perf=strat_perf.loc[t], fundamentals=fundamentals.loc[t], finviz=True) for t in sm.tickers]\n",
    "    return stocks, sm\n",
    "# start = time.time()\n",
    "tickers = [\"NVDA\", \"AMD\"]\n",
    "stocks, sm = main(tickers=tickers, to_plot=True)\n",
    "# end = time.time()\n",
    "# print('{0:.4f} seconds'.format(end - start))"
   ]
  },
  {
   "cell_type": "code",
   "execution_count": 4,
   "id": "anticipated-stocks",
   "metadata": {},
   "outputs": [],
   "source": [
    "\n",
    "\n",
    "\n",
    "# \"\"\"YAHOO FINANCE\"\"\"\n",
    "# import yfinance as yf\n",
    "# # YAHOO FINANCEDATA\n",
    "# tickers = ['AAPL','NVDA']\n",
    "# yf_tickers = [yf.Ticker(t) for t in tickers]\n",
    "# data = yf.download(tickers=tickers, start=datetime(2010, 6, 1), interval='1d', group_by = 'ticker')\n",
    "# data['AAPL']"
   ]
  },
  {
   "cell_type": "markdown",
   "id": "peripheral-ending",
   "metadata": {},
   "source": [
    "# TODO\n",
    "## Cibelli:\n",
    "- research successful strategy\n",
    "## Me:\n",
    "- Yahoo Fin Split & Adj Close data\n",
    "- Hourly data\n",
    "- Test capacity of algo to see how many tickers can run in time period (ideal 30 - 60 mins)\n",
    "- Perf:\n",
    "        - Time per trade\n",
    "        - "
   ]
  },
  {
   "cell_type": "markdown",
   "id": "fluid-short",
   "metadata": {},
   "source": [
    "# TODO:\n",
    "### - optstrategy --> more params, grid search\n",
    "### Fix load_from_csv start_time param\n",
    "## Data:\n",
    "- Split & Dividend Data\n",
    "\n",
    "# NEXT:\n",
    "### - Screener Infrastructure / Stock Universe\n",
    "\n",
    "# AI/ML:\n",
    "### - create model to aggregate all info for a given stock, such as fundamentals, strategy performance, news...\n",
    "### - create NN using ^features^ "
   ]
  },
  {
   "cell_type": "code",
   "execution_count": 5,
   "id": "dental-jenny",
   "metadata": {},
   "outputs": [
    {
     "ename": "NameError",
     "evalue": "name 'List' is not defined",
     "output_type": "error",
     "traceback": [
      "\u001b[0;31m---------------------------------------------------------------------------\u001b[0m",
      "\u001b[0;31mNameError\u001b[0m                                 Traceback (most recent call last)",
      "Input \u001b[0;32mIn [5]\u001b[0m, in \u001b[0;36m<cell line: 1>\u001b[0;34m()\u001b[0m\n\u001b[0;32m----> 1\u001b[0m \u001b[38;5;28;01mdef\u001b[39;00m \u001b[38;5;21mget_perf\u001b[39m(results: \u001b[43mList\u001b[49m[List[bt\u001b[38;5;241m.\u001b[39mcerebro\u001b[38;5;241m.\u001b[39mOptReturn]])\u001b[38;5;241m-\u001b[39m\u001b[38;5;241m>\u001b[39mpd\u001b[38;5;241m.\u001b[39mDataFrame:\n\u001b[1;32m      2\u001b[0m     stats \u001b[38;5;241m=\u001b[39m []\n\u001b[1;32m      3\u001b[0m     \u001b[38;5;28;01mfor\u001b[39;00m i \u001b[38;5;129;01min\u001b[39;00m results:\n",
      "\u001b[0;31mNameError\u001b[0m: name 'List' is not defined"
     ]
    }
   ],
   "source": [
    "def get_perf(results: List[List[bt.cerebro.OptReturn]])->pd.DataFrame:\n",
    "    stats = []\n",
    "    for i in results:\n",
    "        for j in i:\n",
    "            stats.append(\n",
    "                {'strategy': f'SMA_Cross_{j.params.fast}_{j.params.slow}',\n",
    "                 'sharpe_ratio': j.analyzers.sharperatio.get_analysis()['sharperatio'],\n",
    "                 'return': '{0:.2f}%'.format(list(j.analyzers.timereturn.get_analysis().values())[0] * 100),\n",
    "                 'buy_and_hold': '{0:.2f}%'.format(list(j.analyzers.buyandhold.get_analysis().values())[0] * 100),\n",
    "                 'vwr': j.analyzers.vwr.get_analysis()['vwr'],\n",
    "                }\n",
    "            )\n",
    "    df = pd.DataFrame(stats)\n",
    "    df.sort_values(by='sharpe_ratio', ascending=False, inplace=True)\n",
    "    df.set_index('strategy', inplace=True)\n",
    "    return df\n",
    "\n",
    "def grid_search(data_feed: bt.feeds.PandasData, fast: List[int], slow: List[int])->List[List[bt.cerebro.OptReturn]]:\n",
    "    cerebro = bt.Cerebro()\n",
    "    cerebro.optstrategy(EMACrossoverStrategy, fast=fast, slow=slow)\n",
    "    cerebro.adddata(data_feed)\n",
    "\n",
    "    cerebro.broker.setcash(10000.0)\n",
    "    cerebro.broker.setcommission(commission=0.0004)  # Binance Swap taker fee\n",
    "\n",
    "    cerebro.addsizer(bt.sizers.FixedSize, stake=1)\n",
    "\n",
    "    # Add analyzers\n",
    "    cerebro.addanalyzer(bt.analyzers.SharpeRatio, timeframe=bt.TimeFrame.Days, factor=365)\n",
    "    cerebro.addanalyzer(bt.analyzers.VWR, timeframe=bt.TimeFrame.Days, tann=365)\n",
    "    cerebro.addanalyzer(bt.analyzers.TimeReturn, timeframe=bt.TimeFrame.NoTimeFrame)\n",
    "    cerebro.addanalyzer(bt.analyzers.TimeReturn, timeframe=bt.TimeFrame.NoTimeFrame, data=data_feed, _name='buyandhold')\n",
    "\n",
    "    return cerebro.run()\n",
    "\n",
    "# data_feed = bt.feeds.PandasData(dataname=sm._data.loc['PYPL'], timeframe=bt.TimeFrame.Days, openinterest=None)\n",
    "# results = grid_search(data_feed, fast=[32, 64], slow=[256, 512])"
   ]
  },
  {
   "cell_type": "code",
   "execution_count": 6,
   "id": "lyric-artist",
   "metadata": {},
   "outputs": [],
   "source": [
    "# # General STOCK SCREENER:\n",
    "# output_file = \"screener_results.csv\"\n",
    "# result = subprocess.run([sys.executable, \"finviz_screener.py\", \"--table=Valuation\",f\"--output_name={output_file.split('.')[0]}\", \"--save=True\"], capture_output=True, text=True)\n",
    "# pd.read_csv(output_file)"
   ]
  },
  {
   "cell_type": "code",
   "execution_count": 7,
   "id": "agreed-christian",
   "metadata": {},
   "outputs": [
    {
     "ename": "NameError",
     "evalue": "name 'aapl' is not defined",
     "output_type": "error",
     "traceback": [
      "\u001b[0;31m---------------------------------------------------------------------------\u001b[0m",
      "\u001b[0;31mNameError\u001b[0m                                 Traceback (most recent call last)",
      "Input \u001b[0;32mIn [7]\u001b[0m, in \u001b[0;36m<cell line: 4>\u001b[0;34m()\u001b[0m\n\u001b[1;32m      4\u001b[0m \u001b[38;5;28;01mfor\u001b[39;00m t \u001b[38;5;129;01min\u001b[39;00m tickers:\n\u001b[1;32m      5\u001b[0m     data \u001b[38;5;241m=\u001b[39m yf\u001b[38;5;241m.\u001b[39mTicker(\u001b[38;5;124m\"\u001b[39m\u001b[38;5;124mAAPL\u001b[39m\u001b[38;5;124m\"\u001b[39m)\n\u001b[0;32m----> 6\u001b[0m     \u001b[43maapl\u001b[49m\u001b[38;5;241m.\u001b[39mhistory(period\u001b[38;5;241m=\u001b[39m\u001b[38;5;124m'\u001b[39m\u001b[38;5;124mmax\u001b[39m\u001b[38;5;124m'\u001b[39m)\n",
      "\u001b[0;31mNameError\u001b[0m: name 'aapl' is not defined"
     ]
    }
   ],
   "source": [
    "import yfinance as yf\n",
    "tickers = ['AAPL','MSFT','AMZN','GOOG']\n",
    "\n",
    "for t in tickers:\n",
    "    data = yf.Ticker(\"AAPL\")\n",
    "    aapl.history(period='max')"
   ]
  },
  {
   "cell_type": "code",
   "execution_count": null,
   "id": "resistant-guitar",
   "metadata": {},
   "outputs": [],
   "source": [
    "portfolio.splits"
   ]
  },
  {
   "cell_type": "code",
   "execution_count": null,
   "id": "upset-reggae",
   "metadata": {},
   "outputs": [],
   "source": [
    "aapl.actions"
   ]
  },
  {
   "cell_type": "code",
   "execution_count": null,
   "id": "mathematical-float",
   "metadata": {},
   "outputs": [],
   "source": [
    "aapl.info"
   ]
  },
  {
   "cell_type": "code",
   "execution_count": null,
   "id": "presidential-manual",
   "metadata": {},
   "outputs": [],
   "source": []
  }
 ],
 "metadata": {
  "kernelspec": {
   "display_name": "Python 3 (ipykernel)",
   "language": "python",
   "name": "python3"
  },
  "language_info": {
   "codemirror_mode": {
    "name": "ipython",
    "version": 3
   },
   "file_extension": ".py",
   "mimetype": "text/x-python",
   "name": "python",
   "nbconvert_exporter": "python",
   "pygments_lexer": "ipython3",
   "version": "3.9.1"
  }
 },
 "nbformat": 4,
 "nbformat_minor": 5
}
